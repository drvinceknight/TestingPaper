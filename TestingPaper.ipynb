{
 "cells": [
  {
   "cell_type": "markdown",
   "metadata": {
    "collapsed": false
   },
   "source": [
    "## An overview of quality assurance practices in computational research\n",
    "\n",
    "Authors: James Davenport, Steven Lamerton, Oliver Laslett, Vincent Knight, James Hetherington"
   ]
  },
  {
   "cell_type": "markdown",
   "metadata": {},
   "source": [
    "## Introduction\n",
    "\n",
    "- talk of different aspects of qa\n",
    "  - testing\n",
    "  - static analysis\n",
    "- what is a test?\n",
    "- why should I test?\n",
    "- different types of testing as a progression\n",
    "  - regression testing\n",
    "  - unit testing\n",
    "  - portability testing\n",
    "  - performance testing"
   ]
  },
  {
   "cell_type": "markdown",
   "metadata": {},
   "source": []
  },
  {
   "cell_type": "markdown",
   "metadata": {
    "collapsed": true
   },
   "source": [
    "## Basic Testing\n",
    "\n",
    "- Basic testing\n",
    "- Floating point - JHD\n",
    "- Testing Monte Carlo -JH\n",
    "- Testing parallel code (MPI) (Use MPI4Py to make example) -JH\n",
    "- Asserting on derived properties (e.g. functional derivatives)\n"
   ]
  },
  {
   "cell_type": "markdown",
   "metadata": {},
   "source": [
    "### Floating Point and Testing\n",
    "\n",
    "Nearly all computational research is done using the floating-point arithmetic supplied by the vendor. These days this is normally assumed to conform to the IEEE (binary) floating point system \\cite{IEEE2008}, which specifies the results of a sequence of floating-point operations. This actually _does_ simplify the developers' life (compared to the days of negotiating hexadecimal-based IBM formats etc.), but does _not_ mean that there are no problems with the floating point. \n",
    "\n"
   ]
  },
  {
   "cell_type": "markdown",
   "metadata": {},
   "source": [
    "## Further Testing\n",
    "\n",
    "* How to generate fixtures/examples (property based testing) - VK\n",
    "* Regression testing with analytic solutions\n",
    "* Testing for portability: how does some-one know they've installed the software correctly? JHD?\n",
    "* Testing workflows\n",
    "* Visualisation for QE: importance of *seeing* code\n",
    "* Static analysis and linting (including dimensional and unit assertions)\n",
    "* Provenance management (recipy stuff)...\n",
    "* Coverage\n",
    "* CI (really automated testing?)- SJL"
   ]
  },
  {
   "cell_type": "markdown",
   "metadata": {},
   "source": [
    "## Testing Monte Carlo"
   ]
  },
  {
   "cell_type": "markdown",
   "metadata": {},
   "source": [
    "## Testing Parallel Code"
   ]
  },
  {
   "cell_type": "markdown",
   "metadata": {},
   "source": [
    "When testing distributed memory parallelisation, it we have found it helpful to write tests to validate separately the decomposition of the problem\n",
    "and communication between processes, and the "
   ]
  },
  {
   "cell_type": "markdown",
   "metadata": {
    "collapsed": true
   },
   "source": [
    "### Property based testing\n",
    "\n",
    "In \\cite{Claessen2000} a novel testing approach was described: _property based\n",
    "testing_. Claessen and Hughes describe a Haskell package **QuickCheck** that\n",
    "allows for the testing of functions under random inputs. In this instance it is\n",
    "often not the exact output that gets tested but the \"property\" of the output\n",
    "(thus where the name of this paradigm originates). Since this initial work some\n",
    "further property based testing has been provided. In \\cite{Arts2008} a mechanism\n",
    "of shrinking (implemented in **Quviq QuickCheck**) of failed test cases is\n",
    "described: when a given set of inputs is found that fails a test it is shrunk to\n",
    "it a simplest form that still fails the test. As failing parameters are of\n",
    "course reported: this aids in debugging. Other similar yet adjacent testing\n",
    "frameworks are described in \\cite{Runciman2008, Yang2006}, these include testing\n",
    "of storage as well as exhaustive parameter testing.\n",
    "\n",
    "In Python an implementation of _property based testing_ is implemented in the\n",
    "hypothesis library \\cite{hypothesis3.1}. This implements shrinking as described\n",
    "above. As an example let us consider the following function which implements the\n",
    "following (erroneous) property of a number that is divisible or not by 11:\n",
    "\n",
    "> A number is divisible by 11 if and only if the alternating (in sign) sum of\n",
    "> the number’s digits is 0.\n",
    "\n",
    "As an example consider $121$, the alternating sum is: $1-2+1=0$ and indeed\n",
    "$121=11\\times 11$."
   ]
  },
  {
   "cell_type": "code",
   "execution_count": 1,
   "metadata": {
    "collapsed": true
   },
   "outputs": [],
   "source": [
    "def divisible_by_11(number):\n",
    "    \"\"\"Uses above criterion to check if number is divisible by 11\"\"\"\n",
    "    string_number = str(number)\n",
    "    alternating_sum = sum([(-1) ** i * int(d) for i, d\n",
    "                           in enumerate(string_number)])\n",
    "    return alternating_sum == 0"
   ]
  },
  {
   "cell_type": "code",
   "execution_count": 2,
   "metadata": {
    "collapsed": false
   },
   "outputs": [],
   "source": [
    "import unittest\n",
    "\n",
    "class TestDivisible(unittest.TestCase):\n",
    "    def test_divisible_by_11(self):\n",
    "\n",
    "        for k in range(10):\n",
    "            self.assertTrue(divisible_by_11(11 * k))\n",
    "            self.assertFalse(divisible_by_11(11 * k + 1))\n",
    "\n",
    "        # Some more examples\n",
    "        self.assertTrue(divisible_by_11(121))\n",
    "        self.assertTrue(divisible_by_11(12122))\n",
    "\n",
    "        self.assertFalse(divisible_by_11(123))\n",
    "        self.assertFalse(divisible_by_11(12123))\n",
    "\n",
    "TestDivisible().test_divisible_by_11()"
   ]
  },
  {
   "cell_type": "markdown",
   "metadata": {},
   "source": [
    "Running the above gives no failures. Below implements a basic hypothesis test:"
   ]
  },
  {
   "cell_type": "code",
   "execution_count": 3,
   "metadata": {
    "collapsed": false
   },
   "outputs": [
    {
     "ename": "ImportError",
     "evalue": "No module named 'hypothesis'",
     "output_type": "error",
     "traceback": [
      "\u001b[0;31m---------------------------------------------------------------------------\u001b[0m",
      "\u001b[0;31mImportError\u001b[0m                               Traceback (most recent call last)",
      "\u001b[0;32m<ipython-input-3-94cf3652c375>\u001b[0m in \u001b[0;36m<module>\u001b[0;34m()\u001b[0m\n\u001b[0;32m----> 1\u001b[0;31m \u001b[0;32mfrom\u001b[0m \u001b[0mhypothesis\u001b[0m \u001b[0;32mimport\u001b[0m \u001b[0mgiven\u001b[0m  \u001b[0;31m# This is how we will define inputs\u001b[0m\u001b[0;34m\u001b[0m\u001b[0m\n\u001b[0m\u001b[1;32m      2\u001b[0m \u001b[0;32mfrom\u001b[0m \u001b[0mhypothesis\u001b[0m\u001b[0;34m.\u001b[0m\u001b[0mstrategies\u001b[0m \u001b[0;32mimport\u001b[0m \u001b[0mintegers\u001b[0m  \u001b[0;31m# This is the type of input we will use\u001b[0m\u001b[0;34m\u001b[0m\u001b[0m\n\u001b[1;32m      3\u001b[0m \u001b[0;34m\u001b[0m\u001b[0m\n\u001b[1;32m      4\u001b[0m \u001b[0;32mclass\u001b[0m \u001b[0mTestDivisible\u001b[0m\u001b[0;34m(\u001b[0m\u001b[0munittest\u001b[0m\u001b[0;34m.\u001b[0m\u001b[0mTestCase\u001b[0m\u001b[0;34m)\u001b[0m\u001b[0;34m:\u001b[0m\u001b[0;34m\u001b[0m\u001b[0m\n\u001b[1;32m      5\u001b[0m \u001b[0;34m\u001b[0m\u001b[0m\n",
      "\u001b[0;31mImportError\u001b[0m: No module named 'hypothesis'"
     ]
    }
   ],
   "source": [
    "from hypothesis import given  # This is how we will define inputs\n",
    "from hypothesis.strategies import integers  # This is the type of input we will use\n",
    "\n",
    "class TestDivisible(unittest.TestCase):\n",
    "\n",
    "    @given(k=integers(min_value=1))  # This is the main decorator\n",
    "    def test_divisible_by_11(self, k):\n",
    "        self.assertTrue(divisible_by_11(11 * k))\n",
    "\n",
    "TestDivisible().test_divisible_by_11()"
   ]
  },
  {
   "cell_type": "markdown",
   "metadata": {},
   "source": [
    "An error is returned and hypothesis identifies that $k=19$ gives a failure.\n",
    "Indeed: $19\\times 11= 209$. This indicates that our original property for\n",
    "divisibility by 11 does not hold, some basic algebra would confirm this, giving:\n",
    "\n",
    "> A number is divisible by 11 if and only if the alternating (in sign) sum of\n",
    "> the number’s digits is divisible by 11.\n",
    "\n",
    "This can be implemented in python using:"
   ]
  },
  {
   "cell_type": "code",
   "execution_count": null,
   "metadata": {
    "collapsed": true
   },
   "outputs": [],
   "source": [
    "def divisible_by_11(number):\n",
    "    \"\"\"Uses above criterion to check if number is divisible by 11\"\"\"\n",
    "    string_number = str(number)\n",
    "    # Using abs as the order of the alternating sum doesn't matter.\n",
    "    alternating_sum = abs(sum([(-1) ** i * int(d) for i, d\n",
    "                               in enumerate(string_number)]))\n",
    "    # Recursively calling the function\n",
    "    return (alternating_sum in [0, 11]) or divisible_by_11(alternating_sum)"
   ]
  },
  {
   "cell_type": "markdown",
   "metadata": {},
   "source": [
    "Rerunning the tests gives no failures:"
   ]
  },
  {
   "cell_type": "code",
   "execution_count": null,
   "metadata": {
    "collapsed": false
   },
   "outputs": [],
   "source": [
    "class TestDivisible(unittest.TestCase):\n",
    "\n",
    "    @given(k=integers(min_value=1))  # This is the main decorator\n",
    "    def test_divisible_by_11(self, k):\n",
    "        self.assertTrue(divisible_by_11(11 * k))\n",
    "\n",
    "TestDivisible().test_divisible_by_11()"
   ]
  },
  {
   "cell_type": "markdown",
   "metadata": {
    "collapsed": true
   },
   "source": [
    "## Continuous Integration\n",
    "\n",
    "Continuous integration is a development process where code is frequently integrated on a central continuous integration server. This centralisation allows the automation of a variety of quality assurance processes such as the building of the codebase, running of tests, checking of performance and the execution of static analysis tools. By monitoring the revision control system the server can automatically run these operations as the code is changed, giving rapid feedback to the developer. Generally these systems give a web interface to view the output of the build jobs and are also extensible to allow general automation, for example the production of tarballs or other packages for formal software release. For example this paper and its associated website are built using a [continuous integration server](https://travis-ci.org/drvinceknight/TestingPaper) as changes are made to the underlying content.\n",
    "\n",
    "A number of open source and commercial continuous integration servers are available, both hosted and for self hosting. [Travis CI](https://travis-ci.org/) is one of the most popular hosted options and has tight integration with the GitHub code repository. [Jenkins](http://jenkins-ci.org/) is the most popular of the open source, self-hosted options and has a large community writing plugins to further extend the functionality.\n"
   ]
  },
  {
   "cell_type": "markdown",
   "metadata": {
    "collapsed": true
   },
   "source": [
    "## Conclusions"
   ]
  },
  {
   "cell_type": "code",
   "execution_count": null,
   "metadata": {
    "collapsed": true
   },
   "outputs": [],
   "source": []
  }
 ],
 "metadata": {
  "kernelspec": {
   "display_name": "Python 3",
   "language": "python",
   "name": "python3"
  },
  "language_info": {
   "codemirror_mode": {
    "name": "ipython",
    "version": 3
   },
   "file_extension": ".py",
   "mimetype": "text/x-python",
   "name": "python",
   "nbconvert_exporter": "python",
   "pygments_lexer": "ipython3",
   "version": "3.5.1"
  },
  "name": "TestingPaper.ipynb"
 },
 "nbformat": 4,
 "nbformat_minor": 0
}
