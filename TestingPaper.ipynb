{
 "cells": [
  {
   "cell_type": "markdown",
   "metadata": {
    "collapsed": false
   },
   "source": [
    "## An overview of quality assurance practices in computational research\n",
    "\n",
    "Authors: James Davenport, Steven Lamerton, Oliver Laslett, Vincent Knight, James Hetherington"
   ]
  },
  {
   "cell_type": "markdown",
   "metadata": {},
   "source": [
    "## Introduction"
   ]
  },
  {
   "cell_type": "markdown",
   "metadata": {
    "collapsed": true
   },
   "source": [
    "## Basic Testing\n",
    "\n",
    "- Basic testing\n",
    "- Floating point\n",
    "- Testing monte carlo\n",
    "- Testing parallel code (MPI) (Use MPI4Py to make example)\n",
    "- Asserting on derived properties (e.g. functional derivatives)\n"
   ]
  },
  {
   "cell_type": "markdown",
   "metadata": {},
   "source": [
    "## Further Testing\n",
    "\n",
    "* How to generate fixtures/examples (property based testing)\n",
    "* Regression testing with analytic solutions\n",
    "* Testing workflows\n",
    "* Visualisation for QE: importance of *seeing* code\n",
    "* Static analysis and linting (including dimensional and unit assertions)\n",
    "* Provenance management (recipy stuff)..."
   ]
  },
  {
   "cell_type": "markdown",
   "metadata": {
    "collapsed": true
   },
   "source": [
    "## Conclusions"
   ]
  }
 ],
 "metadata": {
  "kernelspec": {
   "display_name": "Python 2 (SageMath)",
   "language": "python",
   "name": "python2"
  },
  "language_info": {
   "codemirror_mode": {
    "name": "ipython",
    "version": 2
   },
   "file_extension": ".py",
   "mimetype": "text/x-python",
   "name": "python",
   "nbconvert_exporter": "python",
   "pygments_lexer": "ipython2",
   "version": "2.7.10"
  },
  "name": "TestingPaper.ipynb"
 },
 "nbformat": 4,
 "nbformat_minor": 0
}
