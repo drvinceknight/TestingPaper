{
 "cells": [
  {
   "cell_type": "markdown",
   "metadata": {
    "collapsed": false
   },
   "source": [
    "# Technical details of how this collaborative paper was written\n",
    "\n",
    "## Jupyter Notebooks\n",
    "\n",
    "The paper is written in a Jupyter notebook and then **magic happens** to render it. (James H to add details).\n",
    "\n",
    "## Version control of the Jupyter Notebook\n",
    "\n",
    "We tried using [Cloud.sagemath](cloud.sagemath.com) to work collaboratively in real time on the notebook. All commits for the notebook are done on cloud.sagemath: they are in effect being done by a single user but multiple authors using:\n",
    "\n",
    "```\n",
    "$ git commit --author=\"XXX...\"\n",
    "```\n",
    "\n",
    "Some issues, there are other options"
   ]
  },
  {
   "cell_type": "markdown",
   "metadata": {},
   "source": [
    "## Continuous deployment\n",
    "\n",
    "Inside Travis on every push:\n",
    "\n",
    " - execute the notebooks (check for failures)\n",
    " - nbconvert for pdf and html\n",
    " - jekyll to build site\n",
    " - pushes to gh-pages\n",
    " \n",
    "Most recent available to all, open source, creative commons"
   ]
  },
  {
   "cell_type": "markdown",
   "metadata": {},
   "source": [
    "## Structure your repository"
   ]
  },
  {
   "cell_type": "markdown",
   "metadata": {
    "collapsed": true
   },
   "source": [
    "Open source means that anybody can contribute. We used two branches:\n",
    "\n",
    " - pull request on master to add content\n",
    " - the gh-pages serves the published content\n",
    " "
   ]
  },
  {
   "cell_type": "code",
   "execution_count": null,
   "metadata": {
    "collapsed": true
   },
   "outputs": [],
   "source": []
  }
 ],
 "metadata": {
  "kernelspec": {
   "display_name": "Python 3",
   "language": "python",
   "name": "python3"
  },
  "language_info": {
   "codemirror_mode": {
    "name": "ipython",
    "version": 3
   },
   "file_extension": ".py",
   "mimetype": "text/x-python",
   "name": "python",
   "nbconvert_exporter": "python",
   "pygments_lexer": "ipython3",
   "version": "3.5.1"
  },
  "name": "how we wrote this.ipynb"
 },
 "nbformat": 4,
 "nbformat_minor": 0
}
