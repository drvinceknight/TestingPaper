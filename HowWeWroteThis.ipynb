{
 "cells": [
  {
   "cell_type": "markdown",
   "metadata": {
    "collapsed": false
   },
   "source": [
    "# Technical details of how this collaborative paper was written\n",
    "\n",
    "## Jupyter Notebooks\n",
    "\n",
    "The paper is written in a Jupyter notebook and then **magic happens** to render it. (James H to add details).\n",
    "\n",
    "## Version control of the Jupyter Notebook\n",
    "\n",
    "We do not do it.\n",
    "\n",
    "We are using [Cloud.sagemath](cloud.sagemath.com) to work collaboratively in real time on the notebook. All commits for the notebook are done on cloud.sagemath: they are in effect being done by a single user but multiple authors using:\n",
    "\n",
    "```\n",
    "$ git commit --author=\"XXX...\"\n",
    "```\n",
    "\n",
    "Here is a gif showing us typing in the notebook at the same time:"
   ]
  },
  {
   "cell_type": "markdown",
   "metadata": {},
   "source": [
    "## CI"
   ]
  },
  {
   "cell_type": "markdown",
   "metadata": {},
   "source": [
    "## Website"
   ]
  },
  {
   "cell_type": "code",
   "execution_count": null,
   "metadata": {
    "collapsed": true
   },
   "outputs": [],
   "source": []
  }
 ],
 "metadata": {
  "kernelspec": {
   "display_name": "Python 3",
   "language": "python",
   "name": "python3"
  },
  "language_info": {
   "codemirror_mode": {
    "name": "ipython",
    "version": 3
   },
   "file_extension": ".py",
   "mimetype": "text/x-python",
   "name": "python",
   "nbconvert_exporter": "python",
   "pygments_lexer": "ipython3",
   "version": "3.5.1"
  },
  "name": "how we wrote this.ipynb"
 },
 "nbformat": 4,
 "nbformat_minor": 0
}
